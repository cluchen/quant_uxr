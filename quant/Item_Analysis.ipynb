{
  "nbformat": 4,
  "nbformat_minor": 0,
  "metadata": {
    "colab": {
      "provenance": []
    },
    "kernelspec": {
      "name": "python3",
      "display_name": "Python 3"
    },
    "language_info": {
      "name": "python"
    }
  },
  "cells": [
    {
      "cell_type": "markdown",
      "source": [
        "# Item Analysis\n",
        "\n",
        "A basic principle of all item analysis is to see if the individual questions in your composite scale “hang together”. We often do item analysis when building a new composite scale.\n",
        "\n",
        "https://www.r-bloggers.com/2016/08/five-ways-to-calculate-internal-consistency/\n",
        "\n"
      ],
      "metadata": {
        "id": "JJ4muaZIjmt1"
      }
    },
    {
      "cell_type": "markdown",
      "source": [
        "###Import, Clean, Reverse Data"
      ],
      "metadata": {
        "id": "13tavMFnjzDX"
      }
    },
    {
      "cell_type": "markdown",
      "source": [
        "For this post, we’ll be using data on a Big 5 measure of personality that is freely available from Personality Tests. You can download the data yourself HERE, or running the following code will handle the downloading and save the data as an object called d:\n",
        "\n"
      ],
      "metadata": {
        "id": "fcwTbUQ9j4cx"
      }
    },
    {
      "cell_type": "code",
      "source": [
        "#importing dataset\n",
        "\n",
        "import requests\n",
        "import zipfile\n",
        "import io\n",
        "import pandas as pd\n",
        "\n",
        "# Download the zip file\n",
        "url = \"http://personality-testing.info/_rawdata/BIG5.zip\"\n",
        "response = requests.get(url)\n",
        "response.raise_for_status()  # Raise an exception for bad status codes\n",
        "\n",
        "# Extract the data file from the zip archive\n",
        "with zipfile.ZipFile(io.BytesIO(response.content)) as zf:\n",
        "    with zf.open(\"BIG5/data.csv\") as data_file:\n",
        "        df = pd.read_csv(data_file, sep=\"\\t\")\n",
        "\n",
        "print(df.head(10))\n",
        "\n",
        "# Now you have the data in a pandas DataFrame called 'df'\n",
        "# You can proceed with your analysis using pandas functionalities"
      ],
      "metadata": {
        "colab": {
          "base_uri": "https://localhost:8080/"
        },
        "id": "O40h1rOVj7YH",
        "outputId": "c2cb9967-1b17-4439-9e97-314a5b5a76ae"
      },
      "execution_count": null,
      "outputs": [
        {
          "output_type": "stream",
          "name": "stdout",
          "text": [
            "   race  age  engnat  gender  hand  source country  E1  E2  E3  ...  O1  O2  \\\n",
            "0     3   53       1       1     1       1      US   4   2   5  ...   4   1   \n",
            "1    13   46       1       2     1       1      US   2   2   3  ...   3   3   \n",
            "2     1   14       2       2     1       1      PK   5   1   1  ...   4   5   \n",
            "3     3   19       2       2     1       1      RO   2   5   2  ...   4   3   \n",
            "4    11   25       2       2     1       2      US   3   1   3  ...   3   1   \n",
            "5    13   31       1       2     1       2      US   1   5   2  ...   4   2   \n",
            "6     5   20       1       2     1       5      US   5   1   5  ...   3   1   \n",
            "7     4   23       2       1     1       2      IN   4   3   5  ...   3   1   \n",
            "8     5   39       1       2     3       4      US   3   1   5  ...   3   3   \n",
            "9     3   18       1       2     1       5      US   1   4   2  ...   4   2   \n",
            "\n",
            "   O3  O4  O5  O6  O7  O8  O9  O10  \n",
            "0   3   1   5   1   4   2   5    5  \n",
            "1   3   3   2   3   3   1   3    2  \n",
            "2   5   1   5   1   5   5   5    5  \n",
            "3   5   2   4   2   5   2   5    5  \n",
            "4   1   1   3   1   3   1   5    3  \n",
            "5   1   3   3   5   5   4   5    3  \n",
            "6   5   1   4   1   4   3   3    4  \n",
            "7   5   1   4   1   5   3   2    5  \n",
            "8   5   3   5   1   5   3   4    5  \n",
            "9   5   2   4   1   4   3   4    4  \n",
            "\n",
            "[10 rows x 57 columns]\n"
          ]
        }
      ]
    },
    {
      "cell_type": "code",
      "source": [
        "#cut down on first 500 participants\n",
        "sample = df.head(500)\n",
        "\n",
        "#cut down on extraversion items (e1 to e10)\n",
        "data = sample[['E1', 'E2', 'E3', 'E4', 'E5', 'E6', 'E7', 'E8', 'E9', 'E10']]\n",
        "\n",
        "print(data.head(10))\n"
      ],
      "metadata": {
        "colab": {
          "base_uri": "https://localhost:8080/"
        },
        "id": "88LXGXyGkVAv",
        "outputId": "6ea2b727-8bfa-4db4-b937-5b94018ea65b"
      },
      "execution_count": null,
      "outputs": [
        {
          "output_type": "stream",
          "name": "stdout",
          "text": [
            "   E1  E2  E3  E4  E5  E6  E7  E8  E9  E10\n",
            "0   4   2   5   2   5   1   4   3   5    1\n",
            "1   2   2   3   3   3   3   1   5   1    5\n",
            "2   5   1   1   4   5   1   1   5   5    1\n",
            "3   2   5   2   4   3   4   3   4   4    5\n",
            "4   3   1   3   3   3   1   3   1   3    5\n",
            "5   1   5   2   4   1   3   2   4   1    5\n",
            "6   5   1   5   1   5   1   5   4   4    1\n",
            "7   4   3   5   3   5   1   4   3   4    3\n",
            "8   3   1   5   1   5   1   5   2   5    3\n",
            "9   1   4   2   5   2   4   1   4   1    5\n"
          ]
        }
      ]
    },
    {
      "cell_type": "markdown",
      "source": [
        "Here is a list of the extraversion items that people are rating from 1 = Disagree to 5 = Agree:\n",
        "\n",
        "E1 I am the life of the party.\n",
        "\n",
        "E2 I don’t talk a lot.\n",
        "\n",
        "E3 I feel comfortable around people.\n",
        "\n",
        "E4 I keep in the background.\n",
        "\n",
        "E5 I start conversations.\n",
        "\n",
        "E6 I have little to say.\n",
        "\n",
        "E7 I talk to a lot of different people at parties.\n",
        "\n",
        "E8 I don’t like to draw attention to myself.\n",
        "\n",
        "E9 I don’t mind being the center of attention.\n",
        "\n",
        "E10 I am quiet around strangers."
      ],
      "metadata": {
        "id": "MJREhH4lk90U"
      }
    },
    {
      "cell_type": "code",
      "source": [
        "#reverse coding (1=disagree to 5=agree)\n",
        "#for an introvert...(1=1) (2=5) (3=1) (4=5) (5=1) (6=5) (7=1) (8=5) (9=1) (10=5)\n",
        "#so we need to reverse code 2, 4, 6, 8, 10\n",
        "\n",
        "def reverse_score(x):\n",
        "    if x == 1:\n",
        "        return 5\n",
        "    elif x == 2:\n",
        "        return 4\n",
        "    elif x == 3:\n",
        "        return 3\n",
        "    elif x == 4:\n",
        "        return 2\n",
        "    elif x == 5:\n",
        "        return 1\n",
        "    else:\n",
        "        return x  # Handle unexpected values (e.g., NaN)\n",
        "\n",
        "cols_to_reverse = ['E2', 'E4', 'E6', 'E8', 'E10']\n",
        "data[cols_to_reverse] = data[cols_to_reverse].applymap(reverse_score)\n",
        "\n",
        "print(data.head(10))\n"
      ],
      "metadata": {
        "colab": {
          "base_uri": "https://localhost:8080/"
        },
        "id": "Mi_jdJiuk9Gy",
        "outputId": "b250d712-271f-4ccd-d706-d7d4b0cf371b"
      },
      "execution_count": null,
      "outputs": [
        {
          "output_type": "stream",
          "name": "stdout",
          "text": [
            "   E1  E2  E3  E4  E5  E6  E7  E8  E9  E10\n",
            "0   4   4   5   4   5   5   4   3   5    5\n",
            "1   2   4   3   3   3   3   1   1   1    1\n",
            "2   5   5   1   2   5   5   1   1   5    5\n",
            "3   2   1   2   2   3   2   3   2   4    1\n",
            "4   3   5   3   3   3   5   3   5   3    1\n",
            "5   1   1   2   2   1   3   2   2   1    1\n",
            "6   5   5   5   5   5   5   5   2   4    5\n",
            "7   4   3   5   3   5   5   4   3   4    3\n",
            "8   3   5   5   5   5   5   5   4   5    3\n",
            "9   1   2   2   1   2   2   1   2   1    1\n"
          ]
        },
        {
          "output_type": "stream",
          "name": "stderr",
          "text": [
            "<ipython-input-28-834e23dd32e9>:20: FutureWarning: DataFrame.applymap has been deprecated. Use DataFrame.map instead.\n",
            "  data[cols_to_reverse] = data[cols_to_reverse].applymap(reverse_score)\n"
          ]
        }
      ]
    },
    {
      "cell_type": "markdown",
      "source": [
        "We’ve now got a data frame of responses with each column being an item (scored in the correct direction) and each row being a participant. Let’s get started!\n",
        "\n"
      ],
      "metadata": {
        "id": "u3Cb2dpsmbFL"
      }
    },
    {
      "cell_type": "markdown",
      "source": [
        "## Average inter-item correlation\n"
      ],
      "metadata": {
        "id": "8suPP88NmcV6"
      }
    },
    {
      "cell_type": "markdown",
      "source": [
        "Run a correlation matrix on all items in your dataset\n",
        "\n",
        "Take the mean of the correlations between each item and the others (excluding correlations between each item and itself). This gives you the average inter-item correlation\n",
        "\n",
        "Evaluate which items are more strongly correlated with the other items\n"
      ],
      "metadata": {
        "id": "NwHVKbQ_nKrw"
      }
    },
    {
      "cell_type": "code",
      "source": [
        "#step 1: run a correlation matrix on all items in datset\n",
        "\n",
        "corr_matrix = data.corr()\n",
        "\n",
        "print(corr_matrix)"
      ],
      "metadata": {
        "colab": {
          "base_uri": "https://localhost:8080/"
        },
        "id": "nuYwZc3onNta",
        "outputId": "0ea22898-4688-4e87-cb21-6a71a60819ab"
      },
      "execution_count": null,
      "outputs": [
        {
          "output_type": "stream",
          "name": "stdout",
          "text": [
            "           E1        E2        E3        E4        E5        E6        E7  \\\n",
            "E1   1.000000  0.452889  0.500233  0.523752  0.537856  0.365783  0.636062   \n",
            "E2   0.452889  1.000000  0.479203  0.554911  0.591700  0.569459  0.473167   \n",
            "E3   0.500233  0.479203  1.000000  0.493029  0.616185  0.329619  0.568452   \n",
            "E4   0.523752  0.554911  0.493029  1.000000  0.512350  0.471474  0.499934   \n",
            "E5   0.537856  0.591700  0.616185  0.512350  1.000000  0.499664  0.620543   \n",
            "E6   0.365783  0.569459  0.329619  0.471474  0.499664  1.000000  0.372577   \n",
            "E7   0.636062  0.473167  0.568452  0.499934  0.620543  0.372577  1.000000   \n",
            "E8   0.449812  0.379180  0.417710  0.450576  0.385078  0.331025  0.402892   \n",
            "E9   0.528037  0.395857  0.475309  0.463138  0.485178  0.328002  0.528329   \n",
            "E10  0.490886  0.448787  0.500074  0.523423  0.552519  0.413774  0.517827   \n",
            "\n",
            "           E8        E9       E10  \n",
            "E1   0.449812  0.528037  0.490886  \n",
            "E2   0.379180  0.395857  0.448787  \n",
            "E3   0.417710  0.475309  0.500074  \n",
            "E4   0.450576  0.463138  0.523423  \n",
            "E5   0.385078  0.485178  0.552519  \n",
            "E6   0.331025  0.328002  0.413774  \n",
            "E7   0.402892  0.528329  0.517827  \n",
            "E8   1.000000  0.597998  0.428899  \n",
            "E9   0.597998  1.000000  0.456858  \n",
            "E10  0.428899  0.456858  1.000000  \n"
          ]
        }
      ]
    },
    {
      "cell_type": "code",
      "source": [
        "# step 2: obtain the average correlation of each item with all others by computing the means for each column\n",
        "\n",
        "\n",
        "# but first, since the diagonal is 1.00, we need to make it NA\n",
        "\n",
        "import numpy as np\n",
        "\n",
        "# Replace diagonal with NaN\n",
        "np.fill_diagonal(corr_matrix.values, np.nan)\n",
        "\n",
        "# Calculate the average correlation for each item\n",
        "average_correlations = corr_matrix.mean(skipna=True)  # Skip NaN values\n",
        "\n",
        "# Display the results\n",
        "print(average_correlations)\n",
        "\n",
        "\n",
        "# overall average inter-item correlation\n",
        "print(average_correlations.mean())"
      ],
      "metadata": {
        "colab": {
          "base_uri": "https://localhost:8080/"
        },
        "id": "We5oCrdjnYLv",
        "outputId": "49051548-ea0e-4e63-da00-9130d923d995"
      },
      "execution_count": null,
      "outputs": [
        {
          "output_type": "stream",
          "name": "stdout",
          "text": [
            "E1     0.498368\n",
            "E2     0.482795\n",
            "E3     0.486646\n",
            "E4     0.499176\n",
            "E5     0.533452\n",
            "E6     0.409042\n",
            "E7     0.513309\n",
            "E8     0.427019\n",
            "E9     0.473190\n",
            "E10    0.481450\n",
            "dtype: float64\n",
            "0.4804446310889225\n"
          ]
        }
      ]
    },
    {
      "cell_type": "code",
      "source": [
        "# Evaluate which items are more strongly correlated with the other items\n",
        "\n",
        "# see if average inter-item correlation > .2\n",
        "# looks like E5 is the strongest correlated"
      ],
      "metadata": {
        "id": "i31zqkoEolMA"
      },
      "execution_count": null,
      "outputs": []
    },
    {
      "cell_type": "markdown",
      "source": [
        "## Cronbach's Alpha\n",
        "\n",
        "This is another way to evaluate items in a scale\n",
        "\n",
        "Assessment: .6+ is good, .8+ is excellent. A high enough alpha score -- more than .6 -- tells us that the scores of our items tend to co-vary toegether"
      ],
      "metadata": {
        "id": "SpfyBqHYoygv"
      }
    },
    {
      "cell_type": "code",
      "source": [
        "# install package\n",
        "\n",
        "!pip install pingouin==0.5.3"
      ],
      "metadata": {
        "colab": {
          "base_uri": "https://localhost:8080/"
        },
        "id": "lnIlRQUXpMVo",
        "outputId": "9143aa2b-48e4-4924-8282-e819296ab90a"
      },
      "execution_count": null,
      "outputs": [
        {
          "output_type": "stream",
          "name": "stdout",
          "text": [
            "Collecting pingouin==0.5.3\n",
            "  Downloading pingouin-0.5.3-py3-none-any.whl.metadata (1.2 kB)\n",
            "Requirement already satisfied: numpy>=1.19 in /usr/local/lib/python3.10/dist-packages (from pingouin==0.5.3) (1.26.4)\n",
            "Requirement already satisfied: scipy>=1.7 in /usr/local/lib/python3.10/dist-packages (from pingouin==0.5.3) (1.13.1)\n",
            "Requirement already satisfied: pandas>=1.0 in /usr/local/lib/python3.10/dist-packages (from pingouin==0.5.3) (2.2.2)\n",
            "Requirement already satisfied: matplotlib>=3.0.2 in /usr/local/lib/python3.10/dist-packages (from pingouin==0.5.3) (3.8.0)\n",
            "Requirement already satisfied: seaborn>=0.11 in /usr/local/lib/python3.10/dist-packages (from pingouin==0.5.3) (0.13.2)\n",
            "Requirement already satisfied: statsmodels>=0.13 in /usr/local/lib/python3.10/dist-packages (from pingouin==0.5.3) (0.14.4)\n",
            "Requirement already satisfied: scikit-learn in /usr/local/lib/python3.10/dist-packages (from pingouin==0.5.3) (1.5.2)\n",
            "Collecting pandas-flavor>=0.2.0 (from pingouin==0.5.3)\n",
            "  Downloading pandas_flavor-0.6.0-py3-none-any.whl.metadata (6.3 kB)\n",
            "Collecting outdated (from pingouin==0.5.3)\n",
            "  Downloading outdated-0.2.2-py2.py3-none-any.whl.metadata (4.7 kB)\n",
            "Requirement already satisfied: tabulate in /usr/local/lib/python3.10/dist-packages (from pingouin==0.5.3) (0.9.0)\n",
            "Requirement already satisfied: contourpy>=1.0.1 in /usr/local/lib/python3.10/dist-packages (from matplotlib>=3.0.2->pingouin==0.5.3) (1.3.1)\n",
            "Requirement already satisfied: cycler>=0.10 in /usr/local/lib/python3.10/dist-packages (from matplotlib>=3.0.2->pingouin==0.5.3) (0.12.1)\n",
            "Requirement already satisfied: fonttools>=4.22.0 in /usr/local/lib/python3.10/dist-packages (from matplotlib>=3.0.2->pingouin==0.5.3) (4.55.3)\n",
            "Requirement already satisfied: kiwisolver>=1.0.1 in /usr/local/lib/python3.10/dist-packages (from matplotlib>=3.0.2->pingouin==0.5.3) (1.4.7)\n",
            "Requirement already satisfied: packaging>=20.0 in /usr/local/lib/python3.10/dist-packages (from matplotlib>=3.0.2->pingouin==0.5.3) (24.2)\n",
            "Requirement already satisfied: pillow>=6.2.0 in /usr/local/lib/python3.10/dist-packages (from matplotlib>=3.0.2->pingouin==0.5.3) (11.0.0)\n",
            "Requirement already satisfied: pyparsing>=2.3.1 in /usr/local/lib/python3.10/dist-packages (from matplotlib>=3.0.2->pingouin==0.5.3) (3.2.0)\n",
            "Requirement already satisfied: python-dateutil>=2.7 in /usr/local/lib/python3.10/dist-packages (from matplotlib>=3.0.2->pingouin==0.5.3) (2.8.2)\n",
            "Requirement already satisfied: pytz>=2020.1 in /usr/local/lib/python3.10/dist-packages (from pandas>=1.0->pingouin==0.5.3) (2024.2)\n",
            "Requirement already satisfied: tzdata>=2022.7 in /usr/local/lib/python3.10/dist-packages (from pandas>=1.0->pingouin==0.5.3) (2024.2)\n",
            "Requirement already satisfied: xarray in /usr/local/lib/python3.10/dist-packages (from pandas-flavor>=0.2.0->pingouin==0.5.3) (2024.10.0)\n",
            "Requirement already satisfied: patsy>=0.5.6 in /usr/local/lib/python3.10/dist-packages (from statsmodels>=0.13->pingouin==0.5.3) (1.0.1)\n",
            "Requirement already satisfied: setuptools>=44 in /usr/local/lib/python3.10/dist-packages (from outdated->pingouin==0.5.3) (75.1.0)\n",
            "Collecting littleutils (from outdated->pingouin==0.5.3)\n",
            "  Downloading littleutils-0.2.4-py3-none-any.whl.metadata (679 bytes)\n",
            "Requirement already satisfied: requests in /usr/local/lib/python3.10/dist-packages (from outdated->pingouin==0.5.3) (2.32.3)\n",
            "Requirement already satisfied: joblib>=1.2.0 in /usr/local/lib/python3.10/dist-packages (from scikit-learn->pingouin==0.5.3) (1.4.2)\n",
            "Requirement already satisfied: threadpoolctl>=3.1.0 in /usr/local/lib/python3.10/dist-packages (from scikit-learn->pingouin==0.5.3) (3.5.0)\n",
            "Requirement already satisfied: six>=1.5 in /usr/local/lib/python3.10/dist-packages (from python-dateutil>=2.7->matplotlib>=3.0.2->pingouin==0.5.3) (1.17.0)\n",
            "Requirement already satisfied: charset-normalizer<4,>=2 in /usr/local/lib/python3.10/dist-packages (from requests->outdated->pingouin==0.5.3) (3.4.0)\n",
            "Requirement already satisfied: idna<4,>=2.5 in /usr/local/lib/python3.10/dist-packages (from requests->outdated->pingouin==0.5.3) (3.10)\n",
            "Requirement already satisfied: urllib3<3,>=1.21.1 in /usr/local/lib/python3.10/dist-packages (from requests->outdated->pingouin==0.5.3) (2.2.3)\n",
            "Requirement already satisfied: certifi>=2017.4.17 in /usr/local/lib/python3.10/dist-packages (from requests->outdated->pingouin==0.5.3) (2024.8.30)\n",
            "Downloading pingouin-0.5.3-py3-none-any.whl (198 kB)\n",
            "\u001b[2K   \u001b[90m━━━━━━━━━━━━━━━━━━━━━━━━━━━━━━━━━━━━━━━━\u001b[0m \u001b[32m198.6/198.6 kB\u001b[0m \u001b[31m4.3 MB/s\u001b[0m eta \u001b[36m0:00:00\u001b[0m\n",
            "\u001b[?25hDownloading pandas_flavor-0.6.0-py3-none-any.whl (7.2 kB)\n",
            "Downloading outdated-0.2.2-py2.py3-none-any.whl (7.5 kB)\n",
            "Downloading littleutils-0.2.4-py3-none-any.whl (8.1 kB)\n",
            "Installing collected packages: littleutils, outdated, pandas-flavor, pingouin\n",
            "Successfully installed littleutils-0.2.4 outdated-0.2.2 pandas-flavor-0.6.0 pingouin-0.5.3\n"
          ]
        }
      ]
    },
    {
      "cell_type": "code",
      "source": [
        "#need to fix this for some reason\n",
        "\n",
        "df = data"
      ],
      "metadata": {
        "id": "OEgOjx8CqEVk"
      },
      "execution_count": null,
      "outputs": []
    },
    {
      "cell_type": "code",
      "source": [
        "import pingouin as pg\n",
        "\n",
        "# Calculate Cronbach's alpha\n",
        "alpha = pg.cronbach_alpha(data=df)\n",
        "\n",
        "# Display the result\n",
        "print(alpha)"
      ],
      "metadata": {
        "colab": {
          "base_uri": "https://localhost:8080/"
        },
        "id": "2YHTFsuipQeo",
        "outputId": "94723f67-5ddd-45d1-8814-299292a28121"
      },
      "execution_count": null,
      "outputs": [
        {
          "output_type": "stream",
          "name": "stdout",
          "text": [
            "(0.9022248126779574, array([0.889, 0.915]))\n"
          ]
        }
      ]
    }
  ]
}