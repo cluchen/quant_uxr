{
  "nbformat": 4,
  "nbformat_minor": 0,
  "metadata": {
    "colab": {
      "provenance": []
    },
    "kernelspec": {
      "name": "python3",
      "display_name": "Python 3"
    },
    "language_info": {
      "name": "python"
    }
  },
  "cells": [
    {
      "cell_type": "markdown",
      "source": [
        "Factor Analysis\n",
        "\n",
        "Factor analysis uses the correlation structure amongst observed variables to model a smaller number of unobserved, latent variables known as factors. Researchers use this statistical method when subject-area knowledge suggests that latent factors cause observable variables to covary. Use factor analysis to identify the hidden variables.\n",
        "\n",
        "https://statisticsbyjim.com/basics/factor-analysis/\n",
        "\n"
      ],
      "metadata": {
        "id": "rb3eUaWBSrRK"
      }
    },
    {
      "cell_type": "code",
      "source": [
        "from google.colab import drive\n",
        "drive.mount('/content/drive')"
      ],
      "metadata": {
        "colab": {
          "base_uri": "https://localhost:8080/"
        },
        "id": "2dINlbz1YwSL",
        "outputId": "4f8f7aaf-0578-4b1d-ce6b-38a51be975e5"
      },
      "execution_count": 4,
      "outputs": [
        {
          "output_type": "stream",
          "name": "stdout",
          "text": [
            "Drive already mounted at /content/drive; to attempt to forcibly remount, call drive.mount(\"/content/drive\", force_remount=True).\n"
          ]
        }
      ]
    },
    {
      "cell_type": "code",
      "source": [
        "import pandas as pd\n",
        "\n",
        "file_path = '/content/drive/MyDrive/Quant UXR/FactorAnalysis.csv'  # Update with your file path\n",
        "df = pd.read_csv(file_path)\n",
        "\n",
        "print(df.head(10))\n"
      ],
      "metadata": {
        "colab": {
          "base_uri": "https://localhost:8080/"
        },
        "id": "XQ9Z7d5yZBIv",
        "outputId": "bed4b67a-0b7d-444f-8870-a31926d9b7f3"
      },
      "execution_count": 5,
      "outputs": [
        {
          "output_type": "stream",
          "name": "stdout",
          "text": [
            "   Academic record  Appearance  Communication  Company Fit  Experience  \\\n",
            "0                6           8              7            5           6   \n",
            "1                9           8              8            8          10   \n",
            "2                6           7              7            6           6   \n",
            "3                7           8              6            5           8   \n",
            "4                4           7              8            6           6   \n",
            "5                7           7              7            5           5   \n",
            "6                6           8              6            7           7   \n",
            "7                7           6              6            5           8   \n",
            "8                9           8              8            9           9   \n",
            "9                6           8              7            8           6   \n",
            "\n",
            "   Job Fit  Letter  Likeability  Organization  Potential  Resume  \\\n",
            "0        5       7            7             7          6       7   \n",
            "1        9       8            9             8          9       9   \n",
            "2        7       7            8             8          6       6   \n",
            "3        5       9            8             7          8       7   \n",
            "4        6       6            7             8          5       4   \n",
            "5        6       5            7             8          7       4   \n",
            "6        7       8            7             5          7       8   \n",
            "7        6       7            6             5          7       6   \n",
            "8        8      10            7             8          8       9   \n",
            "9        7       8            7             8          6       7   \n",
            "\n",
            "   Self-Confidence  \n",
            "0                7  \n",
            "1                9  \n",
            "2                8  \n",
            "3                7  \n",
            "4                6  \n",
            "5                6  \n",
            "6                7  \n",
            "7                6  \n",
            "8                8  \n",
            "9                7  \n"
          ]
        }
      ]
    },
    {
      "cell_type": "code",
      "source": [
        "!pip install --upgrade scipy"
      ],
      "metadata": {
        "colab": {
          "base_uri": "https://localhost:8080/"
        },
        "id": "PttKa6uTZ3Cc",
        "outputId": "f1797bb5-7f26-48e6-8d4b-52805aa7db33"
      },
      "execution_count": 9,
      "outputs": [
        {
          "output_type": "stream",
          "name": "stdout",
          "text": [
            "Requirement already satisfied: scipy in /usr/local/lib/python3.11/dist-packages (1.13.1)\n",
            "Collecting scipy\n",
            "  Downloading scipy-1.15.1-cp311-cp311-manylinux_2_17_x86_64.manylinux2014_x86_64.whl.metadata (61 kB)\n",
            "\u001b[2K     \u001b[90m━━━━━━━━━━━━━━━━━━━━━━━━━━━━━━━━━━━━━━━━\u001b[0m \u001b[32m62.0/62.0 kB\u001b[0m \u001b[31m1.7 MB/s\u001b[0m eta \u001b[36m0:00:00\u001b[0m\n",
            "\u001b[?25hRequirement already satisfied: numpy<2.5,>=1.23.5 in /usr/local/lib/python3.11/dist-packages (from scipy) (1.26.4)\n",
            "Downloading scipy-1.15.1-cp311-cp311-manylinux_2_17_x86_64.manylinux2014_x86_64.whl (40.6 MB)\n",
            "\u001b[2K   \u001b[90m━━━━━━━━━━━━━━━━━━━━━━━━━━━━━━━━━━━━━━━━\u001b[0m \u001b[32m40.6/40.6 MB\u001b[0m \u001b[31m27.0 MB/s\u001b[0m eta \u001b[36m0:00:00\u001b[0m\n",
            "\u001b[?25hInstalling collected packages: scipy\n",
            "  Attempting uninstall: scipy\n",
            "    Found existing installation: scipy 1.13.1\n",
            "    Uninstalling scipy-1.13.1:\n",
            "      Successfully uninstalled scipy-1.13.1\n",
            "\u001b[31mERROR: pip's dependency resolver does not currently take into account all the packages that are installed. This behaviour is the source of the following dependency conflicts.\n",
            "gensim 4.3.3 requires scipy<1.14.0,>=1.7.0, but you have scipy 1.15.1 which is incompatible.\u001b[0m\u001b[31m\n",
            "\u001b[0mSuccessfully installed scipy-1.15.1\n"
          ]
        }
      ]
    },
    {
      "cell_type": "code",
      "source": [
        "!pip install --upgrade factor_analyzer"
      ],
      "metadata": {
        "colab": {
          "base_uri": "https://localhost:8080/"
        },
        "id": "mKmooHOkZZhB",
        "outputId": "16dd3b3f-67fc-456f-f474-f44ad97717ee"
      },
      "execution_count": 1,
      "outputs": [
        {
          "output_type": "stream",
          "name": "stdout",
          "text": [
            "Requirement already satisfied: factor_analyzer in /usr/local/lib/python3.11/dist-packages (0.5.1)\n",
            "Requirement already satisfied: pandas in /usr/local/lib/python3.11/dist-packages (from factor_analyzer) (2.2.2)\n",
            "Requirement already satisfied: scipy in /usr/local/lib/python3.11/dist-packages (from factor_analyzer) (1.15.1)\n",
            "Requirement already satisfied: numpy in /usr/local/lib/python3.11/dist-packages (from factor_analyzer) (1.26.4)\n",
            "Requirement already satisfied: scikit-learn in /usr/local/lib/python3.11/dist-packages (from factor_analyzer) (1.6.1)\n",
            "Requirement already satisfied: python-dateutil>=2.8.2 in /usr/local/lib/python3.11/dist-packages (from pandas->factor_analyzer) (2.8.2)\n",
            "Requirement already satisfied: pytz>=2020.1 in /usr/local/lib/python3.11/dist-packages (from pandas->factor_analyzer) (2025.1)\n",
            "Requirement already satisfied: tzdata>=2022.7 in /usr/local/lib/python3.11/dist-packages (from pandas->factor_analyzer) (2025.1)\n",
            "Requirement already satisfied: joblib>=1.2.0 in /usr/local/lib/python3.11/dist-packages (from scikit-learn->factor_analyzer) (1.4.2)\n",
            "Requirement already satisfied: threadpoolctl>=3.1.0 in /usr/local/lib/python3.11/dist-packages (from scikit-learn->factor_analyzer) (3.5.0)\n",
            "Requirement already satisfied: six>=1.5 in /usr/local/lib/python3.11/dist-packages (from python-dateutil>=2.8.2->pandas->factor_analyzer) (1.17.0)\n"
          ]
        }
      ]
    },
    {
      "cell_type": "code",
      "source": [
        "import pandas as pd\n",
        "from factor_analyzer import FactorAnalyzer"
      ],
      "metadata": {
        "id": "Oqz6tzzCZkYo"
      },
      "execution_count": 6,
      "outputs": []
    },
    {
      "cell_type": "code",
      "source": [
        "# Create a FactorAnalyzer object and perform the analysis\n",
        "fa = FactorAnalyzer(n_factors=3, rotation=\"varimax\") # You can adjust n_factors and rotation\n",
        "fa.fit(df)\n",
        "\n",
        "# Get the factor loadings\n",
        "loadings = fa.loadings_\n",
        "\n",
        "# Create a pandas DataFrame for better visualization\n",
        "loadings_df = pd.DataFrame(loadings, index=df.columns)  # Use df.columns as index\n",
        "print(loadings_df)"
      ],
      "metadata": {
        "colab": {
          "base_uri": "https://localhost:8080/"
        },
        "id": "769VuiYRZqW0",
        "outputId": "771256b9-2c00-45b6-caab-4d81cb1ee21c"
      },
      "execution_count": 8,
      "outputs": [
        {
          "output_type": "stream",
          "name": "stdout",
          "text": [
            "                        0         1         2\n",
            "Academic record  0.287115  0.734576  0.156592\n",
            "Appearance       0.605462  0.330389  0.155911\n",
            "Communication    0.788062  0.101867  0.226863\n",
            "Company Fit      0.592426  0.448080  0.234986\n",
            "Experience       0.056225  0.752867  0.332601\n",
            "Job Fit          0.513700  0.550162  0.248835\n",
            "Letter           0.205309  0.189315  0.957170\n",
            "Likeability      0.638477  0.315557  0.178233\n",
            "Organization     0.889863  0.074845  0.116566\n",
            "Potential        0.356595  0.873990  0.128900\n",
            "Resume           0.286945  0.334221  0.742589\n",
            "Self-Confidence  0.597414  0.380469  0.094291\n"
          ]
        },
        {
          "output_type": "stream",
          "name": "stderr",
          "text": [
            "/usr/local/lib/python3.11/dist-packages/sklearn/utils/deprecation.py:151: FutureWarning: 'force_all_finite' was renamed to 'ensure_all_finite' in 1.6 and will be removed in 1.8.\n",
            "  warnings.warn(\n"
          ]
        }
      ]
    },
    {
      "cell_type": "markdown",
      "source": [
        "resume, letter = hang together = writing skills?\n",
        "\n",
        "academic record, experience, potential = hang together = relevant background?\n",
        "\n",
        "\n",
        "communication, likeability, job fit, self-confidence, company fit, appearance = hang together = soft skills?"
      ],
      "metadata": {
        "id": "vyq5IzeevlKQ"
      }
    },
    {
      "cell_type": "code",
      "source": [],
      "metadata": {
        "id": "WtfwAjskvnrQ"
      },
      "execution_count": null,
      "outputs": []
    }
  ]
}